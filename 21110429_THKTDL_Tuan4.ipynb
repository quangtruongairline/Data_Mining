{
 "cells": [
  {
   "cell_type": "code",
   "execution_count": 1,
   "id": "abb0c936",
   "metadata": {},
   "outputs": [
    {
     "data": {
      "text/plain": [
       "'\\nMSSV: 21110429\\nTên: Nguyễn Quang Trường\\nBài Thực Hành Tuần 4\\nLớp: 20TH_KDL\\n'"
      ]
     },
     "execution_count": 1,
     "metadata": {},
     "output_type": "execute_result"
    }
   ],
   "source": [
    "'''\n",
    "MSSV: 21110429\n",
    "Tên: Nguyễn Quang Trường\n",
    "Bài Thực Hành Tuần 4\n",
    "Lớp: 20TH_KDL\n",
    "'''"
   ]
  },
  {
   "cell_type": "markdown",
   "id": "bb265244",
   "metadata": {},
   "source": [
    "# Bài 4: Khai Thác Mẫu Kết Hợp"
   ]
  },
  {
   "cell_type": "code",
   "execution_count": 2,
   "id": "42dd16f0",
   "metadata": {},
   "outputs": [
    {
     "name": "stdout",
     "output_type": "stream",
     "text": [
      "Collecting apyori\n",
      "  Downloading apyori-1.1.2.tar.gz (8.6 kB)\n",
      "Building wheels for collected packages: apyori\n",
      "  Building wheel for apyori (setup.py): started\n",
      "  Building wheel for apyori (setup.py): finished with status 'done'\n",
      "  Created wheel for apyori: filename=apyori-1.1.2-py3-none-any.whl size=5974 sha256=07202a0aa2b77cc9541d117fb1b00f25047b0fc6a958fd898f98e33933b774c5\n",
      "Note: you may need to restart the kernel to use updated packages.  Stored in directory: c:\\users\\quang\\appdata\\local\\pip\\cache\\wheels\\32\\2a\\54\\10c595515f385f3726642b10c60bf788029e8f3a1323e3913a\n",
      "Successfully built apyori\n",
      "Installing collected packages: apyori\n",
      "Successfully installed apyori-1.1.2\n",
      "\n"
     ]
    }
   ],
   "source": [
    "pip install apyori"
   ]
  },
  {
   "cell_type": "code",
   "execution_count": 3,
   "id": "72bd7288",
   "metadata": {},
   "outputs": [],
   "source": [
    "from apyori import apriori\n",
    "import pandas as pd\n",
    "import numpy as np"
   ]
  },
  {
   "cell_type": "code",
   "execution_count": 4,
   "id": "609679bc",
   "metadata": {},
   "outputs": [],
   "source": [
    "data=pd.read_csv(\"data.csv\",header=None)"
   ]
  },
  {
   "cell_type": "code",
   "execution_count": 5,
   "id": "375a48e8",
   "metadata": {},
   "outputs": [
    {
     "data": {
      "text/html": [
       "<div>\n",
       "<style scoped>\n",
       "    .dataframe tbody tr th:only-of-type {\n",
       "        vertical-align: middle;\n",
       "    }\n",
       "\n",
       "    .dataframe tbody tr th {\n",
       "        vertical-align: top;\n",
       "    }\n",
       "\n",
       "    .dataframe thead th {\n",
       "        text-align: right;\n",
       "    }\n",
       "</style>\n",
       "<table border=\"1\" class=\"dataframe\">\n",
       "  <thead>\n",
       "    <tr style=\"text-align: right;\">\n",
       "      <th></th>\n",
       "      <th>0</th>\n",
       "      <th>1</th>\n",
       "      <th>2</th>\n",
       "      <th>3</th>\n",
       "      <th>4</th>\n",
       "      <th>5</th>\n",
       "    </tr>\n",
       "  </thead>\n",
       "  <tbody>\n",
       "    <tr>\n",
       "      <th>0</th>\n",
       "      <td>Wine</td>\n",
       "      <td>Chips</td>\n",
       "      <td>Bread</td>\n",
       "      <td>Butter</td>\n",
       "      <td>Milk</td>\n",
       "      <td>Apple</td>\n",
       "    </tr>\n",
       "    <tr>\n",
       "      <th>1</th>\n",
       "      <td>Wine</td>\n",
       "      <td>NaN</td>\n",
       "      <td>Bread</td>\n",
       "      <td>Butter</td>\n",
       "      <td>Milk</td>\n",
       "      <td>NaN</td>\n",
       "    </tr>\n",
       "    <tr>\n",
       "      <th>2</th>\n",
       "      <td>NaN</td>\n",
       "      <td>NaN</td>\n",
       "      <td>Bread</td>\n",
       "      <td>Butter</td>\n",
       "      <td>Milk</td>\n",
       "      <td>NaN</td>\n",
       "    </tr>\n",
       "    <tr>\n",
       "      <th>3</th>\n",
       "      <td>NaN</td>\n",
       "      <td>Chips</td>\n",
       "      <td>NaN</td>\n",
       "      <td>NaN</td>\n",
       "      <td>NaN</td>\n",
       "      <td>Apple</td>\n",
       "    </tr>\n",
       "    <tr>\n",
       "      <th>4</th>\n",
       "      <td>Wine</td>\n",
       "      <td>Chips</td>\n",
       "      <td>Bread</td>\n",
       "      <td>Butter</td>\n",
       "      <td>Milk</td>\n",
       "      <td>Apple</td>\n",
       "    </tr>\n",
       "  </tbody>\n",
       "</table>\n",
       "</div>"
      ],
      "text/plain": [
       "      0      1      2       3     4      5\n",
       "0  Wine  Chips  Bread  Butter  Milk  Apple\n",
       "1  Wine    NaN  Bread  Butter  Milk    NaN\n",
       "2   NaN    NaN  Bread  Butter  Milk    NaN\n",
       "3   NaN  Chips    NaN     NaN   NaN  Apple\n",
       "4  Wine  Chips  Bread  Butter  Milk  Apple"
      ]
     },
     "execution_count": 5,
     "metadata": {},
     "output_type": "execute_result"
    }
   ],
   "source": [
    "data.head()"
   ]
  },
  {
   "cell_type": "code",
   "execution_count": 6,
   "id": "455cd163",
   "metadata": {},
   "outputs": [],
   "source": [
    "# chuyen DataFrame thanh dang danh sach cac list\n",
    "transaction=[]\n",
    "for i in range(0,data.shape[0]):\n",
    "    transaction.append([str(data.values[i,j]) for j in range(0,data.shape[1])])"
   ]
  },
  {
   "cell_type": "code",
   "execution_count": 7,
   "id": "958f5873",
   "metadata": {},
   "outputs": [],
   "source": [
    "# Loai bo cac gia tri 'nan'\n",
    "transaction_new=[]\n",
    "for i in range(0, len(transaction)):\n",
    "    transaction_new.append([])\n",
    "    for j in transaction[i]:\n",
    "        if j != 'nan':\n",
    "            transaction_new[i].append(j)"
   ]
  },
  {
   "cell_type": "code",
   "execution_count": 8,
   "id": "a22785ab",
   "metadata": {},
   "outputs": [
    {
     "data": {
      "text/plain": [
       "[['Wine', 'Chips', 'Bread', 'Butter', 'Milk', 'Apple'],\n",
       " ['Wine', 'Bread', 'Butter', 'Milk'],\n",
       " ['Bread', 'Butter', 'Milk'],\n",
       " ['Chips', 'Apple'],\n",
       " ['Wine', 'Chips', 'Bread', 'Butter', 'Milk', 'Apple'],\n",
       " ['Wine', 'Chips', 'Milk'],\n",
       " ['Wine', 'Chips', 'Bread', 'Butter', 'Apple'],\n",
       " ['Wine', 'Chips', 'Milk'],\n",
       " ['Wine', 'Bread', 'Apple'],\n",
       " ['Wine', 'Bread', 'Butter', 'Milk'],\n",
       " ['Chips', 'Bread', 'Butter', 'Apple'],\n",
       " ['Wine', 'Butter', 'Milk', 'Apple'],\n",
       " ['Wine', 'Chips', 'Bread', 'Butter', 'Milk'],\n",
       " ['Wine', 'Bread', 'Milk', 'Apple'],\n",
       " ['Wine', 'Bread', 'Butter', 'Milk', 'Apple'],\n",
       " ['Wine', 'Chips', 'Bread', 'Butter', 'Milk', 'Apple'],\n",
       " ['Chips', 'Bread', 'Butter', 'Milk', 'Apple'],\n",
       " ['Chips', 'Butter', 'Milk', 'Apple'],\n",
       " ['Wine', 'Chips', 'Bread', 'Butter', 'Milk', 'Apple'],\n",
       " ['Wine', 'Bread', 'Butter', 'Milk', 'Apple'],\n",
       " ['Wine', 'Chips', 'Bread', 'Milk', 'Apple'],\n",
       " ['Chips']]"
      ]
     },
     "execution_count": 8,
     "metadata": {},
     "output_type": "execute_result"
    }
   ],
   "source": [
    "transaction_new"
   ]
  },
  {
   "cell_type": "markdown",
   "id": "2bb370c2",
   "metadata": {},
   "source": [
    "## Xây dựng theo hàm có sẵn trong python"
   ]
  },
  {
   "cell_type": "markdown",
   "id": "3719105b",
   "metadata": {},
   "source": [
    "### Xây dựng mô hình Apriori"
   ]
  },
  {
   "cell_type": "code",
   "execution_count": 9,
   "id": "a9cf1b70",
   "metadata": {},
   "outputs": [],
   "source": [
    "assocciation_rules=apriori(transaction_new,min_support=0.5, min_confidence=0.7,min_lift=1.2)\n",
    "assocciation_rules=list(assocciation_rules)"
   ]
  },
  {
   "cell_type": "code",
   "execution_count": 10,
   "id": "111aee7f",
   "metadata": {},
   "outputs": [
    {
     "data": {
      "text/plain": [
       "[RelationRecord(items=frozenset({'Bread', 'Milk', 'Butter'}), support=0.5, ordered_statistics=[OrderedStatistic(items_base=frozenset({'Butter'}), items_add=frozenset({'Bread', 'Milk'}), confidence=0.7333333333333334, lift=1.241025641025641), OrderedStatistic(items_base=frozenset({'Bread', 'Milk'}), items_add=frozenset({'Butter'}), confidence=0.8461538461538461, lift=1.241025641025641)])]"
      ]
     },
     "execution_count": 10,
     "metadata": {},
     "output_type": "execute_result"
    }
   ],
   "source": [
    "assocciation_rules"
   ]
  },
  {
   "cell_type": "markdown",
   "id": "4d36bdcd",
   "metadata": {},
   "source": [
    "Kết quả này là một tuple duy nhất trong danh sách các tuples đại diện cho các luật kết hợp phổ biến tìm thấy trong dữ liệu đầu vào bằng thuật toán Apriori.\n",
    "\n",
    "* items trong tuple này là một frozenset chứa tất cả các đặc trưng được kết hợp với nhau, tức là \"Butter\", \"Bread\" và \"Milk\" được kết hợp với nhau.\n",
    "* support cho biết tỷ lệ phần trăm của số lần xuất hiện của bộ các đặc trưng đó trong tất cả các giao dịch trong dữ liệu đầu vào, ở đây là 0.5, tức là bộ các đặc trưng này xuất hiện trong một nửa số lượng giao dịch.\n",
    "* ordered_statistics là một danh sách các OrderedStatistic objects, mỗi object biểu diễn một cặp luật kết hợp theo quy tắc: \"nếu bạn mua đặc trưng A, thì bạn cũng sẽ mua đặc trưng B\".\n",
    "    - Trong tuple này, có hai OrderedStatistic objects.\n",
    "        + OrderedStatistic đầu tiên cho biết nếu người dùng mua \"Butter\", thì có khả năng hơn 73.33% rằng họ cũng sẽ mua \"Bread\" và \"Milk\" cùng lúc. Chỉ số lift của ordered statistic này là 1.241025641025641, cho thấy rằng mua \"Butter\" cùng với \"Bread\" và \"Milk\" có mức độ liên quan tương đối cao, so với một trường hợp không có sự kết hợp này.\n",
    "        + OrderedStatistic thứ hai cho biết nếu người dùng mua cùng lúc \"Bread\" và \"Milk\", thì có khả năng hơn 84.61% rằng họ cũng sẽ mua \"Butter\" cùng lúc. Chỉ số lift của ordered statistic này cũng là 1.241025641025641, cho thấy mua \"Bread\" và \"Milk\" cùng với \"Butter\" cũng có mức độ liên quan tương đối cao."
   ]
  },
  {
   "cell_type": "markdown",
   "id": "7589a8f5",
   "metadata": {},
   "source": [
    "### Xuất kết quả "
   ]
  },
  {
   "cell_type": "code",
   "execution_count": 11,
   "id": "0ea32ad9",
   "metadata": {},
   "outputs": [],
   "source": [
    "# Xuất kết quả\n",
    "\n",
    "def output_solution(assocciation_rules):\n",
    "    df = pd.DataFrame(columns=['Rule', 'Support', 'Confidence', 'Lift'])\n",
    "    for r in assocciation_rules:\n",
    "        lhs = ', '.join(list(r.ordered_statistics[0].items_base))\n",
    "        rhs = ', '.join(list(r.ordered_statistics[0].items_add))\n",
    "        support = r.support\n",
    "        confidence = r.ordered_statistics[0].confidence\n",
    "        lift = r.ordered_statistics[0].lift\n",
    "        df = pd.concat([df, pd.DataFrame({'Rule': f\"{lhs} => {rhs}\", 'Support': support, 'Confidence': confidence, 'Lift': lift}, index=[0])], ignore_index=True)\n",
    "        if len(r.ordered_statistics) > 1:\n",
    "            for os in r.ordered_statistics[1:]:\n",
    "                lhs = ', '.join(list(os.items_base))\n",
    "                rhs = ', '.join(list(os.items_add))\n",
    "                support = r.support\n",
    "                confidence = os.confidence\n",
    "                lift = os.lift\n",
    "                df = pd.concat([df, pd.DataFrame({'Rule': f\"{lhs} => {rhs}\", 'Support': support, 'Confidence': confidence, 'Lift': lift}, index=[0])], ignore_index=True)\n",
    "\n",
    "    print(df)"
   ]
  },
  {
   "cell_type": "code",
   "execution_count": 12,
   "id": "299bb6d7",
   "metadata": {},
   "outputs": [
    {
     "name": "stdout",
     "output_type": "stream",
     "text": [
      "                    Rule Support Confidence      Lift\n",
      "0  Butter => Bread, Milk     0.5   0.733333  1.241026\n",
      "1  Bread, Milk => Butter     0.5   0.846154  1.241026\n"
     ]
    }
   ],
   "source": [
    "output_solution(assocciation_rules)"
   ]
  },
  {
   "cell_type": "code",
   "execution_count": 13,
   "id": "028a34c8",
   "metadata": {},
   "outputs": [],
   "source": [
    "def inspect(output):\n",
    "    lhs         = [tuple(result[2][0][0])[0] for result in output]\n",
    "    rhs         = [tuple(result[2][0][1])[0] for result in output]\n",
    "    support    = [result[1] for result in output]\n",
    "    confidence = [result[2][0][2] for result in output]\n",
    "    lift       = [result[2][0][3] for result in output]\n",
    "    return list(zip(lhs, rhs, support, confidence, lift))\n"
   ]
  },
  {
   "cell_type": "code",
   "execution_count": 14,
   "id": "2c630b94",
   "metadata": {},
   "outputs": [],
   "source": [
    "output_DataFrame = pd.DataFrame(inspect(assocciation_rules), columns = ['Left_Hand_Side', 'Right_Hand_Side', 'Support', 'Confidence', 'Lift'])\n"
   ]
  },
  {
   "cell_type": "code",
   "execution_count": 15,
   "id": "8bbbbf40",
   "metadata": {},
   "outputs": [
    {
     "data": {
      "text/html": [
       "<div>\n",
       "<style scoped>\n",
       "    .dataframe tbody tr th:only-of-type {\n",
       "        vertical-align: middle;\n",
       "    }\n",
       "\n",
       "    .dataframe tbody tr th {\n",
       "        vertical-align: top;\n",
       "    }\n",
       "\n",
       "    .dataframe thead th {\n",
       "        text-align: right;\n",
       "    }\n",
       "</style>\n",
       "<table border=\"1\" class=\"dataframe\">\n",
       "  <thead>\n",
       "    <tr style=\"text-align: right;\">\n",
       "      <th></th>\n",
       "      <th>Left_Hand_Side</th>\n",
       "      <th>Right_Hand_Side</th>\n",
       "      <th>Support</th>\n",
       "      <th>Confidence</th>\n",
       "      <th>Lift</th>\n",
       "    </tr>\n",
       "  </thead>\n",
       "  <tbody>\n",
       "    <tr>\n",
       "      <th>0</th>\n",
       "      <td>Butter</td>\n",
       "      <td>Bread</td>\n",
       "      <td>0.5</td>\n",
       "      <td>0.733333</td>\n",
       "      <td>1.241026</td>\n",
       "    </tr>\n",
       "  </tbody>\n",
       "</table>\n",
       "</div>"
      ],
      "text/plain": [
       "  Left_Hand_Side Right_Hand_Side  Support  Confidence      Lift\n",
       "0         Butter           Bread      0.5    0.733333  1.241026"
      ]
     },
     "execution_count": 15,
     "metadata": {},
     "output_type": "execute_result"
    }
   ],
   "source": [
    "output_DataFrame"
   ]
  },
  {
   "cell_type": "markdown",
   "id": "b05098e9",
   "metadata": {},
   "source": [
    "## Xây dựng mô hình bằng hàm tự viết"
   ]
  },
  {
   "cell_type": "markdown",
   "id": "d57f5faf",
   "metadata": {},
   "source": [
    "### Các hàm hỗ trợ"
   ]
  },
  {
   "cell_type": "code",
   "execution_count": 16,
   "id": "e92b92af",
   "metadata": {},
   "outputs": [],
   "source": [
    "def count_occurences(itemset, transactions): \n",
    "    \"\"\"\n",
    "    Feature: Number of occurrences of items in transactions\n",
    "    Return: count items in transactions\n",
    "    \n",
    "    Arguments:\n",
    "        itemset\n",
    "        transactions\n",
    "    \"\"\"\n",
    "    count=0\n",
    "    for i in range(len(transactions)):\n",
    "        if set(itemset).issubset(set(transactions[i])):\n",
    "            count+=1 \n",
    "    return count "
   ]
  },
  {
   "cell_type": "code",
   "execution_count": 17,
   "id": "c6f80c6f",
   "metadata": {},
   "outputs": [],
   "source": [
    "def get_frequent(itemsets,transactions, min_support, prev_discard):\n",
    "   \n",
    "    \"\"\"\n",
    "    Feature:find the frequent set in the transaction data set with a given min_support threshold value.\n",
    "    Return:\n",
    "        L: is the list of frequent episodes.\n",
    "        supp_count: is the number of occurrences of the frequent itemsets in the transaction data set.\n",
    "        new_discarded: is the list of unpopular episodes to be removed.\n",
    "    Agrument:\n",
    "        itemsets\n",
    "        transactions\n",
    "        min_suport\n",
    "        prev_discard: contains a list of episodes that have \n",
    "                        been dropped in previous frequent set searches.\n",
    "    \"\"\"   \n",
    "    L=[]\n",
    "    supp_count=[]\n",
    "    new_discarded=[]\n",
    "    num_trans=len(transactions)\n",
    "    k=len(prev_discard.keys())\n",
    "    for s in range(len(itemsets)):\n",
    "        discarded_before= False\n",
    "        if k >0:\n",
    "            for it in prev_discard[k]:\n",
    "                if set(it).issubset(set(itemsets[s])):\n",
    "                    discarded_before=True\n",
    "                    break\n",
    "        if not discarded_before:\n",
    "            count = count_occurences(itemsets[s], transactions)\n",
    "            if count/num_trans >= min_support:\n",
    "                L.append(itemsets[s])\n",
    "                supp_count.append(count)\n",
    "\n",
    "            else:\n",
    "                new_discarded.append(itemsets[s])\n",
    "    return L, supp_count, new_discarded\n",
    "            \n",
    "        "
   ]
  },
  {
   "cell_type": "code",
   "execution_count": 18,
   "id": "a36f64a0",
   "metadata": {},
   "outputs": [],
   "source": [
    "def join_two_itemsets(it1,it2,columns):\n",
    "    \"\"\"\n",
    "    Feature: join two itemsets\n",
    "    \"\"\"\n",
    "    it1.sort(key=lambda x : columns.index(x))\n",
    "    it2.sort(key=lambda x : columns.index(x))\n",
    "    \n",
    "    for i in range(len(it1)-1):\n",
    "        if it1[i] != it2[i]:\n",
    "            return []\n",
    "    \n",
    "    if columns.index(it1[-1]) < columns.index(it2[-1]):\n",
    "        return it1 + [it2[-1]]\n",
    "    return []"
   ]
  },
  {
   "cell_type": "code",
   "execution_count": null,
   "id": "c53d7a23",
   "metadata": {},
   "outputs": [],
   "source": []
  },
  {
   "cell_type": "code",
   "execution_count": 19,
   "id": "d589e8b3",
   "metadata": {},
   "outputs": [],
   "source": [
    "def join_set_itemsets(set_of_its, columns):\n",
    "    \"\"\"\n",
    "    Feature: Join itemsets\n",
    "    Return: items joined\n",
    "    \"\"\"\n",
    "    C=[]\n",
    "    for i in range(len(set_of_its)):\n",
    "        for j in range(i+1,len(set_of_its)):\n",
    "            it_out= join_two_itemsets(set_of_its[i],set_of_its[j],columns)\n",
    "            if len(it_out)> 0:\n",
    "                C.append(it_out)\n",
    "    return C"
   ]
  },
  {
   "cell_type": "code",
   "execution_count": 20,
   "id": "bfadc148",
   "metadata": {},
   "outputs": [],
   "source": [
    "from itertools import combinations,chain\n",
    "def powerset(s):\n",
    "    \"\"\"\n",
    "    This function returns a list containing all subsets of the input set, \n",
    "        including the empty set and the complete set.\n",
    "    \"\"\"\n",
    "    return list(chain.from_iterable(combinations(s,r) for r in range(1,len(s)+1)))"
   ]
  },
  {
   "cell_type": "code",
   "execution_count": 21,
   "id": "abcaaa98",
   "metadata": {},
   "outputs": [],
   "source": [
    "def write_rules(X,X_S,S,conf,supp,lift,num_trans) :\n",
    "    \"\"\"\n",
    "    Feaure: print association rules\n",
    "    Agrument:\n",
    "        X: Itemset in association rules\n",
    "        X_S: Y in X->Y\n",
    "        S: X in  X->Y\n",
    "        conf: confidence\n",
    "        supp:support\n",
    "        lift:lift is an index used to measure the degree of association between \n",
    "             items in association rules\n",
    "        num_trans:Count of transaction.\n",
    "    \"\"\"\n",
    "    out_rules=\"\\n \\n\"\n",
    "    out_rules+= \"Freq. Itemset: {}\\n\".format(X)\n",
    "    out_rules+=\"   Rule:{} -> {}\\n\".format(list(S),list(X_S))\n",
    "    out_rules+=\"   Conf: {0:2.3f}\".format(conf)\n",
    "    out_rules+=\"   Supp: {0:2.3f}\".format(supp/num_trans)\n",
    "    out_rules+=\"   Lift: {0:2.3f}\".format(lift)\n",
    "    return out_rules"
   ]
  },
  {
   "cell_type": "code",
   "execution_count": 22,
   "id": "2aa33756",
   "metadata": {},
   "outputs": [],
   "source": [
    "def get_columns(transaction):\n",
    "    \"\"\"\n",
    "    Returns elements contained in transactions\n",
    "    \"\"\"\n",
    "    columns = set()\n",
    "    for t in transaction:\n",
    "        columns.update(set(t))\n",
    "    columns = sorted(list(columns))\n",
    "    return columns\n",
    "\n"
   ]
  },
  {
   "cell_type": "code",
   "execution_count": null,
   "id": "92b3052d",
   "metadata": {},
   "outputs": [],
   "source": []
  },
  {
   "cell_type": "code",
   "execution_count": null,
   "id": "f2cf8a0c",
   "metadata": {},
   "outputs": [],
   "source": []
  },
  {
   "cell_type": "markdown",
   "id": "1b32433b",
   "metadata": {},
   "source": [
    "### Hàm chính"
   ]
  },
  {
   "cell_type": "code",
   "execution_count": 23,
   "id": "33ffc03c",
   "metadata": {},
   "outputs": [],
   "source": [
    "def Apriori(transactions,min_sup, min_conf, min_lift=0):\n",
    "        \n",
    "    columns=get_columns(transaction)\n",
    "\n",
    "    num_trans=len(transactions)\n",
    "    C={}  # candidate itemset\n",
    "    L={} # popular itemsets\n",
    "    \n",
    "    # Start k=1, create C1,L1\n",
    "    itemset_size=1\n",
    "    Discarded= {itemset_size:[]} # save element unpopular\n",
    "    C.update({itemset_size:[ [f] for f in columns]})\n",
    "    \n",
    "    supp_count_L={} # frequency corresponding with L\n",
    "    \n",
    "    f,sup,new_discarded=get_frequent(C[itemset_size],transaction_new, min_sup, Discarded)\n",
    "    \n",
    "    Discarded.update({itemset_size :new_discarded})\n",
    "    L.update({itemset_size: f})\n",
    "    supp_count_L.update({itemset_size: sup})\n",
    "    # End K=1\n",
    "    \n",
    "    \n",
    "    # creat candidate itemset C[2...] and popular itemset L[2..]\n",
    "    k=itemset_size+1 \n",
    "    convergence= False\n",
    "    while not convergence:\n",
    "        C.update({k: join_set_itemsets(L[k-1],columns)})\n",
    "        f,sup,new_discarded=get_frequent(C[k],transaction, min_sup, Discarded)\n",
    "        Discarded.update({k: new_discarded})\n",
    "        L.update({k: f})\n",
    "        supp_count_L.update({k:sup})\n",
    "        if len(L[k])==0:\n",
    "            convergence=True\n",
    "        k+= 1\n",
    "        \n",
    "    \n",
    "    #Generate association rules\n",
    "    assoc_rules_str=\"\"\n",
    "    for i in range(1,len(L)):\n",
    "        for j in range(len(L[i])):\n",
    "            s= list(powerset(set(L[i][j])))\n",
    "            s.pop()\n",
    "            for  z in s:\n",
    "                S=set(z)\n",
    "                X=set(L[i][j])\n",
    "                X_S= set(X-S)\n",
    "                sup_x=count_occurences(X,transaction)\n",
    "                sup_x_s=count_occurences(X_S,transaction)\n",
    "                conf=sup_x/count_occurences(S,transaction)\n",
    "                lift=conf/(sup_x_s/num_trans)\n",
    "                if conf >= min_conf and sup_x>= min_sup and lift>= min_lift:\n",
    "                    assoc_rules_str+= write_rules(X,X_S,S,conf,sup_x,lift,num_trans)\n",
    "    return assoc_rules_str\n",
    "    \n",
    "    "
   ]
  },
  {
   "cell_type": "code",
   "execution_count": 24,
   "id": "ef3efacb",
   "metadata": {},
   "outputs": [],
   "source": [
    "solution=Apriori(transaction_new,0.5,0.7)"
   ]
  },
  {
   "cell_type": "code",
   "execution_count": 25,
   "id": "18b184cb",
   "metadata": {},
   "outputs": [
    {
     "name": "stdout",
     "output_type": "stream",
     "text": [
      "\n",
      " \n",
      "Freq. Itemset: {'Bread', 'Apple'}\n",
      "   Rule:['Bread'] -> ['Apple']\n",
      "   Conf: 0.750   Supp: 0.545   Lift: 1.100\n",
      " \n",
      "Freq. Itemset: {'Bread', 'Apple'}\n",
      "   Rule:['Apple'] -> ['Bread']\n",
      "   Conf: 0.800   Supp: 0.545   Lift: 1.100\n",
      " \n",
      "Freq. Itemset: {'Butter', 'Apple'}\n",
      "   Rule:['Butter'] -> ['Apple']\n",
      "   Conf: 0.733   Supp: 0.500   Lift: 1.076\n",
      " \n",
      "Freq. Itemset: {'Butter', 'Apple'}\n",
      "   Rule:['Apple'] -> ['Butter']\n",
      "   Conf: 0.733   Supp: 0.500   Lift: 1.076\n",
      " \n",
      "Freq. Itemset: {'Milk', 'Apple'}\n",
      "   Rule:['Apple'] -> ['Milk']\n",
      "   Conf: 0.733   Supp: 0.500   Lift: 0.949\n",
      " \n",
      "Freq. Itemset: {'Wine', 'Apple'}\n",
      "   Rule:['Apple'] -> ['Wine']\n",
      "   Conf: 0.733   Supp: 0.500   Lift: 1.008\n",
      " \n",
      "Freq. Itemset: {'Bread', 'Butter'}\n",
      "   Rule:['Bread'] -> ['Butter']\n",
      "   Conf: 0.812   Supp: 0.591   Lift: 1.192\n",
      " \n",
      "Freq. Itemset: {'Bread', 'Butter'}\n",
      "   Rule:['Butter'] -> ['Bread']\n",
      "   Conf: 0.867   Supp: 0.591   Lift: 1.192\n",
      " \n",
      "Freq. Itemset: {'Bread', 'Milk'}\n",
      "   Rule:['Bread'] -> ['Milk']\n",
      "   Conf: 0.812   Supp: 0.591   Lift: 1.051\n",
      " \n",
      "Freq. Itemset: {'Bread', 'Milk'}\n",
      "   Rule:['Milk'] -> ['Bread']\n",
      "   Conf: 0.765   Supp: 0.591   Lift: 1.051\n",
      " \n",
      "Freq. Itemset: {'Bread', 'Wine'}\n",
      "   Rule:['Bread'] -> ['Wine']\n",
      "   Conf: 0.812   Supp: 0.591   Lift: 1.117\n",
      " \n",
      "Freq. Itemset: {'Bread', 'Wine'}\n",
      "   Rule:['Wine'] -> ['Bread']\n",
      "   Conf: 0.812   Supp: 0.591   Lift: 1.117\n",
      " \n",
      "Freq. Itemset: {'Milk', 'Butter'}\n",
      "   Rule:['Milk'] -> ['Butter']\n",
      "   Conf: 0.765   Supp: 0.591   Lift: 1.122\n",
      " \n",
      "Freq. Itemset: {'Milk', 'Butter'}\n",
      "   Rule:['Butter'] -> ['Milk']\n",
      "   Conf: 0.867   Supp: 0.591   Lift: 1.122\n",
      " \n",
      "Freq. Itemset: {'Wine', 'Butter'}\n",
      "   Rule:['Butter'] -> ['Wine']\n",
      "   Conf: 0.733   Supp: 0.500   Lift: 1.008\n",
      " \n",
      "Freq. Itemset: {'Wine', 'Milk'}\n",
      "   Rule:['Wine'] -> ['Milk']\n",
      "   Conf: 0.875   Supp: 0.636   Lift: 1.132\n",
      " \n",
      "Freq. Itemset: {'Wine', 'Milk'}\n",
      "   Rule:['Milk'] -> ['Wine']\n",
      "   Conf: 0.824   Supp: 0.636   Lift: 1.132\n",
      " \n",
      "Freq. Itemset: {'Bread', 'Milk', 'Butter'}\n",
      "   Rule:['Butter'] -> ['Bread', 'Milk']\n",
      "   Conf: 0.733   Supp: 0.500   Lift: 1.241\n",
      " \n",
      "Freq. Itemset: {'Bread', 'Milk', 'Butter'}\n",
      "   Rule:['Bread', 'Milk'] -> ['Butter']\n",
      "   Conf: 0.846   Supp: 0.500   Lift: 1.241\n",
      " \n",
      "Freq. Itemset: {'Bread', 'Milk', 'Butter'}\n",
      "   Rule:['Bread', 'Butter'] -> ['Milk']\n",
      "   Conf: 0.846   Supp: 0.500   Lift: 1.095\n",
      " \n",
      "Freq. Itemset: {'Bread', 'Milk', 'Butter'}\n",
      "   Rule:['Milk', 'Butter'] -> ['Bread']\n",
      "   Conf: 0.846   Supp: 0.500   Lift: 1.163\n",
      " \n",
      "Freq. Itemset: {'Bread', 'Wine', 'Milk'}\n",
      "   Rule:['Bread', 'Wine'] -> ['Milk']\n",
      "   Conf: 0.846   Supp: 0.500   Lift: 1.095\n",
      " \n",
      "Freq. Itemset: {'Bread', 'Wine', 'Milk'}\n",
      "   Rule:['Bread', 'Milk'] -> ['Wine']\n",
      "   Conf: 0.846   Supp: 0.500   Lift: 1.163\n",
      " \n",
      "Freq. Itemset: {'Bread', 'Wine', 'Milk'}\n",
      "   Rule:['Wine', 'Milk'] -> ['Bread']\n",
      "   Conf: 0.786   Supp: 0.500   Lift: 1.080\n"
     ]
    }
   ],
   "source": [
    "print(solution)"
   ]
  },
  {
   "cell_type": "code",
   "execution_count": null,
   "id": "64c254a4",
   "metadata": {},
   "outputs": [],
   "source": []
  },
  {
   "cell_type": "markdown",
   "id": "cb8001dd",
   "metadata": {},
   "source": [
    "## So sánh hàm có sẵn và tự viết"
   ]
  },
  {
   "cell_type": "markdown",
   "id": "823768ff",
   "metadata": {},
   "source": [
    "### So sánh khi chỉ có hai tham số là min_sup và min_cof"
   ]
  },
  {
   "cell_type": "markdown",
   "id": "30a6f084",
   "metadata": {},
   "source": [
    "#### Hàm có sẵn"
   ]
  },
  {
   "cell_type": "code",
   "execution_count": 26,
   "id": "9fd164de",
   "metadata": {},
   "outputs": [
    {
     "name": "stdout",
     "output_type": "stream",
     "text": [
      "                     Rule   Support Confidence      Lift\n",
      "0                => Bread  0.727273   0.727273       1.0\n",
      "1                 => Milk  0.772727   0.772727       1.0\n",
      "2                 => Wine  0.727273   0.727273       1.0\n",
      "3          Apple => Bread  0.545455        0.8       1.1\n",
      "4          Bread => Apple  0.545455       0.75       1.1\n",
      "5         Apple => Butter       0.5   0.733333  1.075556\n",
      "6         Butter => Apple       0.5   0.733333  1.075556\n",
      "7           Apple => Milk       0.5   0.733333   0.94902\n",
      "8           Apple => Wine       0.5   0.733333  1.008333\n",
      "9         Bread => Butter  0.590909     0.8125  1.191667\n",
      "10        Butter => Bread  0.590909   0.866667  1.191667\n",
      "11          Bread => Milk  0.590909     0.8125  1.051471\n",
      "12          Milk => Bread  0.590909   0.764706  1.051471\n",
      "13          Bread => Wine  0.590909     0.8125  1.117188\n",
      "14          Wine => Bread  0.590909     0.8125  1.117188\n",
      "15         Butter => Milk  0.590909   0.866667  1.121569\n",
      "16         Milk => Butter  0.590909   0.764706  1.121569\n",
      "17         Butter => Wine       0.5   0.733333  1.008333\n",
      "18           Milk => Wine  0.636364   0.823529  1.132353\n",
      "19           Wine => Milk  0.636364      0.875  1.132353\n",
      "20  Butter => Bread, Milk       0.5   0.733333  1.241026\n",
      "21  Bread, Butter => Milk       0.5   0.846154  1.095023\n",
      "22  Bread, Milk => Butter       0.5   0.846154  1.241026\n",
      "23  Milk, Butter => Bread       0.5   0.846154  1.163462\n",
      "24    Bread, Milk => Wine       0.5   0.846154  1.163462\n",
      "25    Bread, Wine => Milk       0.5   0.846154  1.095023\n",
      "26    Wine, Milk => Bread       0.5   0.785714  1.080357\n"
     ]
    }
   ],
   "source": [
    "assocciation_rules=apriori(transaction_new,min_support=0.5, min_confidence=0.7)\n",
    "assocciation_rules=list(assocciation_rules)\n",
    "output_solution(assocciation_rules)"
   ]
  },
  {
   "cell_type": "markdown",
   "id": "500889be",
   "metadata": {},
   "source": [
    "#### Hàm viết tay"
   ]
  },
  {
   "cell_type": "code",
   "execution_count": 27,
   "id": "03755362",
   "metadata": {},
   "outputs": [
    {
     "name": "stdout",
     "output_type": "stream",
     "text": [
      "\n",
      " \n",
      "Freq. Itemset: {'Bread', 'Apple'}\n",
      "   Rule:['Bread'] -> ['Apple']\n",
      "   Conf: 0.750   Supp: 0.545   Lift: 1.100\n",
      " \n",
      "Freq. Itemset: {'Bread', 'Apple'}\n",
      "   Rule:['Apple'] -> ['Bread']\n",
      "   Conf: 0.800   Supp: 0.545   Lift: 1.100\n",
      " \n",
      "Freq. Itemset: {'Butter', 'Apple'}\n",
      "   Rule:['Butter'] -> ['Apple']\n",
      "   Conf: 0.733   Supp: 0.500   Lift: 1.076\n",
      " \n",
      "Freq. Itemset: {'Butter', 'Apple'}\n",
      "   Rule:['Apple'] -> ['Butter']\n",
      "   Conf: 0.733   Supp: 0.500   Lift: 1.076\n",
      " \n",
      "Freq. Itemset: {'Milk', 'Apple'}\n",
      "   Rule:['Apple'] -> ['Milk']\n",
      "   Conf: 0.733   Supp: 0.500   Lift: 0.949\n",
      " \n",
      "Freq. Itemset: {'Wine', 'Apple'}\n",
      "   Rule:['Apple'] -> ['Wine']\n",
      "   Conf: 0.733   Supp: 0.500   Lift: 1.008\n",
      " \n",
      "Freq. Itemset: {'Bread', 'Butter'}\n",
      "   Rule:['Bread'] -> ['Butter']\n",
      "   Conf: 0.812   Supp: 0.591   Lift: 1.192\n",
      " \n",
      "Freq. Itemset: {'Bread', 'Butter'}\n",
      "   Rule:['Butter'] -> ['Bread']\n",
      "   Conf: 0.867   Supp: 0.591   Lift: 1.192\n",
      " \n",
      "Freq. Itemset: {'Bread', 'Milk'}\n",
      "   Rule:['Bread'] -> ['Milk']\n",
      "   Conf: 0.812   Supp: 0.591   Lift: 1.051\n",
      " \n",
      "Freq. Itemset: {'Bread', 'Milk'}\n",
      "   Rule:['Milk'] -> ['Bread']\n",
      "   Conf: 0.765   Supp: 0.591   Lift: 1.051\n",
      " \n",
      "Freq. Itemset: {'Bread', 'Wine'}\n",
      "   Rule:['Bread'] -> ['Wine']\n",
      "   Conf: 0.812   Supp: 0.591   Lift: 1.117\n",
      " \n",
      "Freq. Itemset: {'Bread', 'Wine'}\n",
      "   Rule:['Wine'] -> ['Bread']\n",
      "   Conf: 0.812   Supp: 0.591   Lift: 1.117\n",
      " \n",
      "Freq. Itemset: {'Milk', 'Butter'}\n",
      "   Rule:['Milk'] -> ['Butter']\n",
      "   Conf: 0.765   Supp: 0.591   Lift: 1.122\n",
      " \n",
      "Freq. Itemset: {'Milk', 'Butter'}\n",
      "   Rule:['Butter'] -> ['Milk']\n",
      "   Conf: 0.867   Supp: 0.591   Lift: 1.122\n",
      " \n",
      "Freq. Itemset: {'Wine', 'Butter'}\n",
      "   Rule:['Butter'] -> ['Wine']\n",
      "   Conf: 0.733   Supp: 0.500   Lift: 1.008\n",
      " \n",
      "Freq. Itemset: {'Wine', 'Milk'}\n",
      "   Rule:['Wine'] -> ['Milk']\n",
      "   Conf: 0.875   Supp: 0.636   Lift: 1.132\n",
      " \n",
      "Freq. Itemset: {'Wine', 'Milk'}\n",
      "   Rule:['Milk'] -> ['Wine']\n",
      "   Conf: 0.824   Supp: 0.636   Lift: 1.132\n",
      " \n",
      "Freq. Itemset: {'Bread', 'Milk', 'Butter'}\n",
      "   Rule:['Butter'] -> ['Bread', 'Milk']\n",
      "   Conf: 0.733   Supp: 0.500   Lift: 1.241\n",
      " \n",
      "Freq. Itemset: {'Bread', 'Milk', 'Butter'}\n",
      "   Rule:['Bread', 'Milk'] -> ['Butter']\n",
      "   Conf: 0.846   Supp: 0.500   Lift: 1.241\n",
      " \n",
      "Freq. Itemset: {'Bread', 'Milk', 'Butter'}\n",
      "   Rule:['Bread', 'Butter'] -> ['Milk']\n",
      "   Conf: 0.846   Supp: 0.500   Lift: 1.095\n",
      " \n",
      "Freq. Itemset: {'Bread', 'Milk', 'Butter'}\n",
      "   Rule:['Milk', 'Butter'] -> ['Bread']\n",
      "   Conf: 0.846   Supp: 0.500   Lift: 1.163\n",
      " \n",
      "Freq. Itemset: {'Bread', 'Wine', 'Milk'}\n",
      "   Rule:['Bread', 'Wine'] -> ['Milk']\n",
      "   Conf: 0.846   Supp: 0.500   Lift: 1.095\n",
      " \n",
      "Freq. Itemset: {'Bread', 'Wine', 'Milk'}\n",
      "   Rule:['Bread', 'Milk'] -> ['Wine']\n",
      "   Conf: 0.846   Supp: 0.500   Lift: 1.163\n",
      " \n",
      "Freq. Itemset: {'Bread', 'Wine', 'Milk'}\n",
      "   Rule:['Wine', 'Milk'] -> ['Bread']\n",
      "   Conf: 0.786   Supp: 0.500   Lift: 1.080\n"
     ]
    }
   ],
   "source": [
    "print(Apriori(transaction_new,0.5,0.7))"
   ]
  },
  {
   "cell_type": "raw",
   "id": "47739c4f",
   "metadata": {},
   "source": [
    "Cả Hai kết quả hầu như là giống nhau chỉ có một điểm khác biệt là hàm có sẵn đưa ra luật kết hợp \n",
    "(X->Y)chỉ có một mặt hàng, còn hàm viết tay đưa ra từ hai mặt hàng trở lên"
   ]
  },
  {
   "cell_type": "markdown",
   "id": "bf9ea7bd",
   "metadata": {},
   "source": [
    "### So sánh với ba tham số min_sup, min_conf, min_lift"
   ]
  },
  {
   "cell_type": "markdown",
   "id": "f81a23f4",
   "metadata": {},
   "source": [
    "#### Hàm có sẵn"
   ]
  },
  {
   "cell_type": "code",
   "execution_count": 28,
   "id": "a8782059",
   "metadata": {},
   "outputs": [
    {
     "name": "stdout",
     "output_type": "stream",
     "text": [
      "                    Rule Support Confidence      Lift\n",
      "0  Butter => Bread, Milk     0.5   0.733333  1.241026\n",
      "1  Bread, Milk => Butter     0.5   0.846154  1.241026\n"
     ]
    }
   ],
   "source": [
    "assocciation_rules=apriori(transaction_new,min_support=0.5, min_confidence=0.7, min_lift=1.2)\n",
    "assocciation_rules=list(assocciation_rules)\n",
    "output_solution(assocciation_rules)"
   ]
  },
  {
   "cell_type": "markdown",
   "id": "90630299",
   "metadata": {},
   "source": [
    "#### Hàm viết tay"
   ]
  },
  {
   "cell_type": "code",
   "execution_count": 29,
   "id": "4d22dd13",
   "metadata": {},
   "outputs": [
    {
     "name": "stdout",
     "output_type": "stream",
     "text": [
      "\n",
      " \n",
      "Freq. Itemset: {'Bread', 'Milk', 'Butter'}\n",
      "   Rule:['Butter'] -> ['Bread', 'Milk']\n",
      "   Conf: 0.733   Supp: 0.500   Lift: 1.241\n",
      " \n",
      "Freq. Itemset: {'Bread', 'Milk', 'Butter'}\n",
      "   Rule:['Bread', 'Milk'] -> ['Butter']\n",
      "   Conf: 0.846   Supp: 0.500   Lift: 1.241\n"
     ]
    }
   ],
   "source": [
    "print(Apriori(transaction_new,0.5,0.7,1.2))"
   ]
  },
  {
   "cell_type": "raw",
   "id": "5342c66b",
   "metadata": {},
   "source": [
    "==> Hai kết quả như nhau"
   ]
  }
 ],
 "metadata": {
  "kernelspec": {
   "display_name": "Python 3 (ipykernel)",
   "language": "python",
   "name": "python3"
  },
  "language_info": {
   "codemirror_mode": {
    "name": "ipython",
    "version": 3
   },
   "file_extension": ".py",
   "mimetype": "text/x-python",
   "name": "python",
   "nbconvert_exporter": "python",
   "pygments_lexer": "ipython3",
   "version": "3.9.12"
  }
 },
 "nbformat": 4,
 "nbformat_minor": 5
}
