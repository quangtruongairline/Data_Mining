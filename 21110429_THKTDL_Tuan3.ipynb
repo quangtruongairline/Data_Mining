{
 "cells": [
  {
   "cell_type": "code",
   "execution_count": 1,
   "id": "132f6549",
   "metadata": {},
   "outputs": [
    {
     "data": {
      "text/plain": [
       "'\\nMSSV: 21110429\\nTên: Nguyễn Quang Trường\\nBài Thực Hành Tuần 3\\nLớp: 20TH_KDL\\n'"
      ]
     },
     "execution_count": 1,
     "metadata": {},
     "output_type": "execute_result"
    }
   ],
   "source": [
    "'''\n",
    "MSSV: 21110429\n",
    "Tên: Nguyễn Quang Trường\n",
    "Bài Thực Hành Tuần 3\n",
    "Lớp: 20TH_KDL\n",
    "'''"
   ]
  },
  {
   "cell_type": "markdown",
   "id": "5e3f0197",
   "metadata": {},
   "source": [
    "# Bài Tuần 3 Sự Tương Đồng Và Các Khoảng Cách (tt)"
   ]
  },
  {
   "cell_type": "markdown",
   "id": "19699af4",
   "metadata": {},
   "source": [
    "## Câu 1: Khoảng cách thay đổi (edit_distance)"
   ]
  },
  {
   "cell_type": "code",
   "execution_count": 1,
   "id": "8161031c",
   "metadata": {},
   "outputs": [
    {
     "name": "stdout",
     "output_type": "stream",
     "text": [
      "Enter the source string :\n",
      "INTENTION\n",
      "Enter the target string :\n",
      "EXCECTION\n",
      "Minimum edit distance : 8\n",
      "Number of insertions : 0\n",
      "Number of deletions : 0\n",
      "Number of substitutions : 4\n",
      "Total number of operations : 4\n",
      "Actual Operations :\n",
      "1) SUBSTITUTE : I by E\n",
      "2) SUBSTITUTE : N by X\n",
      "3) SUBSTITUTE : T by C\n",
      "4) SUBSTITUTE : N by C\n"
     ]
    }
   ],
   "source": [
    "def find_minimum_edit_distance (source_string, target_string) :\n",
    "\n",
    "    # Create a dp matrix of dimension (source_string + 1) x (destination matrix + 1)\n",
    "    dp = [[0] * (len(source_string) + 1) for i in range (len(target_string) + 1)]\n",
    "\n",
    "    # Initialize the required values of the matrix\n",
    "\n",
    "    for i in range(1, len(target_string) + 1) :\n",
    "        dp[i][0] = dp[i - 1][0] + 1\n",
    "\n",
    "    for i in range(1, len(source_string) + 1) :\n",
    "        dp[0][i] = dp[0][i - 1] +1\n",
    "\n",
    "    # Maintain the record of opertions done\n",
    "    # Record is one tuple. Eg : (INSERT, 'a') or (SUBSTITUTE, 'e', 'r') or (DELETE, 'j')\n",
    "    operations_performed = []\n",
    "\n",
    "    # Build the matrix following the algorithm\n",
    "    for i in range(1, len(target_string) + 1) :\n",
    "        for j in range(1, len(source_string) + 1) :\n",
    "            if source_string[j - 1] == target_string[i - 1] :\n",
    "                dp[i][j] = dp[i-1][j-1]\n",
    "            else :\n",
    "                dp[i][j] = min(dp[i - 1][j] + 1, \\\n",
    "                                dp[i-1][j-1] + 2, \\\n",
    "                                dp[i][j-1]+ 1)\n",
    "\n",
    "    # Initialization for backtracking\n",
    "    i = len(target_string)\n",
    "    j = len(source_string)\n",
    "\n",
    "    # Backtrack to record the operation performed\n",
    "\n",
    "    while (i != 0 and j != 0) :\n",
    "        # If the character of the source string is equal to the character of the destination string,\n",
    "        # no operation is performed\n",
    "\n",
    "        if target_string[i - 1] == source_string[j - 1] :\n",
    "            i-=1\n",
    "            j-=1\n",
    "        else :\n",
    "            # Check if the current element is derived from the upper-left diagonal element\n",
    "            if dp[i][j] == dp[i-1][j-1] + 2 :\n",
    "                operations_performed.append(('SUBSTITUTE', source_string[j - 1], target_string[i - 1]))\n",
    "                i-=1\n",
    "                j-=1\n",
    "            # Check if the current element is derived from the upper element\n",
    "            elif dp[i][j] == dp[i - 1][j] + 1 :\n",
    "                operations_performed.append(('INSERT', target_string[i - 1]))\n",
    "                i-=1\n",
    "            # Check if the current element is derived from the left element\n",
    "            else :\n",
    "\n",
    "                operations_performed.append(('DELETE', source_string[j - 1]))\n",
    "                j-=1\n",
    "    # If we reach top-most row of the matrix\n",
    "\n",
    "    while (j != 0) :\n",
    "        operations_performed.append(('DELETE', source_string[j - 1]))\n",
    "        j-=1\n",
    "\n",
    "    # If we reach left-most column of the matrix\n",
    "\n",
    "    while (i !=0) :\n",
    "        operations_performed.append(('INSERT', target_string[i - 1]))\n",
    "        i-=1\n",
    "\n",
    "    # Reverse the list of operations performed as we have operations in reverse\n",
    "    # order because of backtracking\n",
    "\n",
    "    operations_performed.reverse()\n",
    "    return [dp[len(target_string)][len(source_string)], operations_performed]\n",
    "\n",
    "if __name__==\"__main__\":\n",
    "\n",
    "    # Get the source and target string\n",
    "    print(\"Enter the source string :\")\n",
    "    source_string = input().strip()\n",
    "    print(\"Enter the target string :\")\n",
    "    target_string = input().strip()\n",
    "\n",
    "    # Find the minimum edit distance and the operation performed\n",
    "    distance, operations_performed = find_minimum_edit_distance(source_string, target_string)\n",
    "\n",
    "    # Count the number of individual operations\n",
    "    insertions, deletions, substitutions = 0, 0, 0\n",
    "    for i in operations_performed :\n",
    "        if i[0] == 'INSERT' :\n",
    "            insertions += 1\n",
    "        elif i[0] == 'DELETE' :\n",
    "            deletions += 1\n",
    "        else :\n",
    "            substitutions += 1\n",
    "\n",
    "# Print the results\n",
    "print(\"Minimum edit distance : {}\".format(distance))\n",
    "print(\"Number of insertions : {}\".format(insertions))\n",
    "print(\"Number of deletions : {}\".format(deletions))\n",
    "print(\"Number of substitutions : {}\".format(substitutions))\n",
    "print(\"Total number of operations : {}\".format(insertions + deletions + substitutions))\n",
    "\n",
    "print(\"Actual Operations :\")\n",
    "for i in range(len(operations_performed)) :\n",
    "    \n",
    "    if operations_performed[i] [0] == 'INSERT' :\n",
    "        print(\"{}) {} : {}\".format(i + 1, operations_performed[i][0], operations_performed[i][1]))\n",
    "    elif operations_performed[i][0] == 'DELETE' :\n",
    "        print(\"{}) {} : {}\".format(i + 1, operations_performed[i][0], operations_performed[i][1]))\n",
    "    else :\n",
    "        print(\"{}) {} : {} by {}\".format(i+1, operations_performed[i][0], operations_performed[i][1], operations_performed[i][2]))\n",
    "\n",
    "\n",
    "\n"
   ]
  },
  {
   "cell_type": "markdown",
   "id": "1656f9ae",
   "metadata": {},
   "source": [
    "### Nhận xét thuật toán"
   ]
  },
  {
   "cell_type": "markdown",
   "id": "374ae6c3",
   "metadata": {},
   "source": [
    "Thuật toán trên là Wagner-Fisher là một thuật toán quy hoạch động để tính toán edit distance giữa hai chuỗi ký tự. \n",
    "Thuật toán này sử dụng một bảng hai chiều (hay còn gọi là ma trận) để lưu trữ các giá trị edit distance cho các phần của hai chuỗi.\n",
    "\n",
    "Các bước thực hiện thuật toán Wagner-Fisher như sau:\n",
    "\n",
    "1) Khởi tạo ma trận: Tạo một ma trận có (m+1) hàng và (n+1) cột, trong đó m và n lần lượt là độ dài của hai chuỗi ký tự. Các phần tử của hàng và cột đầu tiên được khởi tạo với các giá trị từ 0 đến m và n tương ứng.\n",
    "\n",
    "2) Tính toán giá trị các phần tử còn lại của ma trận: Với mỗi phần tử của ma trận, giá trị tại đó được tính dựa trên giá trị của các phần tử xung quanh và độ khác biệt giữa hai ký tự tương ứng. Cụ thể, với mỗi phần tử (i,j) trong ma trận, ta tính giá trị của nó bằng cách:\n",
    " - Nếu ký tự cuối cùng của A tại vị trí i bằng ký tự cuối cùng của B tại vị trí j, thì giá trị của phần tử (i,j) bằng giá trị của phần tử (i-1,j-1).\n",
    " - Nếu không, giá trị của phần tử (i,j) được tính bằng giá trị của phần tử (i-1,j-1) cộng với độ khác biệt giữa hai ký tự tương ứng. Độ khác biệt có thể là 1 (nếu ta thực hiện thao tác thay thế), hoặc là 2 (nếu ta thực hiện thao tác thêm và thao tác xóa). Giá trị của phần tử (i,j) cũng có thể được tính bằng giá trị của phần tử (i-1,j) cộng với 1 (nếu ta thực hiện thao tác xóa) hoặc giá trị của phần tử (i,j-1) cộng với 1 (nếu ta thực hiện thao tác thêm).\n",
    "\n",
    "3) Trả về giá trị edit distance: Giá trị edit distance giữa hai chuỗi ký tự được tính bằng giá trị của phần tử cuối cùng trong ma trận.\n",
    "\n",
    "Độ phức tạp thời gian của thuật toán Wagner-Fisher là O(mn), trong đó m và n lần lượt là độ dài của hai chuỗi ký tự.\n",
    "\n"
   ]
  },
  {
   "cell_type": "markdown",
   "id": "dfc6d601",
   "metadata": {},
   "source": [
    "#### Edit distance có ứng dụng rộng trong nhiều lĩnh vực, như xử lý ngôn ngữ tự nhiên, so sánh văn bản, nhận diện giọng nói và đánh giá độ tương đồng giữa hai chuỗi dữ liệu. Việc áp dụng thuật toán Wagner-Fisher sẽ giúp cho các ứng dụng này có thể xử lý và phân tích dữ liệu một cách nhanh chóng và chính xác.\n",
    "\n",
    "\n",
    "\n"
   ]
  },
  {
   "cell_type": "code",
   "execution_count": null,
   "id": "bd9e0a7d",
   "metadata": {},
   "outputs": [],
   "source": []
  },
  {
   "cell_type": "markdown",
   "id": "c4f12448",
   "metadata": {},
   "source": [
    "## Câu 2:  Khoảng cách dãy con chung dài nhất (Longest Common Subsequence_ LCSS)"
   ]
  },
  {
   "cell_type": "markdown",
   "id": "17e64c28",
   "metadata": {},
   "source": [
    "Longest Common Subsequence (chuỗi con chung dài nhất), đây là một trong những thuật toán quan trọng trong lĩnh vực xử lý chuỗi và so sánh chuỗi.\n",
    "\n",
    "LCSS là một thuật toán cho phép tìm ra chuỗi con chung dài nhất giữa hai chuỗi. Để làm được điều này, thuật toán tìm tất cả các chuỗi con của hai chuỗi đầu vào, sau đó so sánh chúng để tìm ra chuỗi con chung dài nhất. Các chuỗi con này có thể không liên tiếp nhau, nhưng vẫn phải có thứ tự xuất hiện giống nhau trong cả hai chuỗi.\n",
    "\n",
    "Ứng dụng của thuật toán LCSS rất rộng rãi, chẳng hạn như trong xử lý ngôn ngữ tự nhiên, phân tích DNA, so sánh chuỗi âm nhạc và nhiều lĩnh vực khác."
   ]
  },
  {
   "cell_type": "code",
   "execution_count": 1,
   "id": "4aa71b2c",
   "metadata": {},
   "outputs": [],
   "source": [
    "import numpy as np\n",
    "import pandas as pd"
   ]
  },
  {
   "cell_type": "code",
   "execution_count": 35,
   "id": "66747b3e",
   "metadata": {},
   "outputs": [],
   "source": [
    "def find_LCSS(string_1, string_2):\n",
    "    \n",
    "    # Create a ss matrix of dimension (len(string_1) + 1) x (len(string_2) + 1)\n",
    "    ss=[[0]*(len(string_2)+1) for i in range(len(string_1)+1)]\n",
    "    \n",
    "    #Create a pre_pos matrix of dimension (len(string_1)+1)x(len(string_2)+1) in order to \n",
    "    # save the position of the arrow in the previous cell\n",
    "    pre_pos=[[0]*(len(string_2)+1) for i in range(len(string_1)+1)]\n",
    "    \n",
    "    \n",
    "    #Buil Algorithm\n",
    "    for i in range(1,len(string_1)+1):\n",
    "        for j in range(1,len(string_2)+1):\n",
    "            \n",
    "            if string_1[i-1]==string_2[j-1]:\n",
    "                ss[i][j]=ss[i-1][j-1]+1;\n",
    "                pre_pos[i][j]=[i-1,j-1]\n",
    "            else:\n",
    "                ss[i][j]=max(ss[i][j-1],ss[i-1][j])\n",
    "                if ss[i-1][j]>=ss[i][j-1]:\n",
    "                    pre_pos[i][j]=[i-1,j]\n",
    "                else:\n",
    "                    pre_pos[i][j]=[i,j-1]\n",
    "                    \n",
    "    #vet[] save street backtrack in matrix                \n",
    "    vet=[]\n",
    "    \n",
    "    #LCSS save char into Longest Common Subsequence\n",
    "    LCSS=[]\n",
    "    \n",
    "    #operations_performed record direction of movement to a position in the matrix \n",
    "    # ex: (\"UP\",[0,1]): remove up cell i=0,j=1\n",
    "    operations_performed=[]\n",
    "\n",
    "    \n",
    "    #Backtrack\n",
    "    i=len(string_1)\n",
    "    j=len(string_2)\n",
    "    vet.append([[len(string_1),len(string_2)]])\n",
    "    \n",
    "    while (i!=0 and j!=0):\n",
    "        a,b=pre_pos[i][j]\n",
    "        \n",
    "        #Save path of algorithm on matrix\n",
    "        vet.append([pre_pos[i][j]])\n",
    "        \n",
    "        # Check if the current element is derived from the upper-left diagonal element\n",
    "        if (a==i-1 and b==j-1):\n",
    "            LCSS.append(string_1[i-1])\n",
    "            operations_performed.append((\"DIAGON\",[a,b]))\n",
    "            \n",
    "        # Check if the current element is derived from the upper element\n",
    "        elif (a==i-1 and b==j):\n",
    "            operations_performed.append(('UP',[a,b]))\n",
    "            \n",
    "        # Check if the current element is derived from the left element    \n",
    "        else:\n",
    "            operations_performed.append((\"LEFT\",[a,b]))\n",
    "        i=a\n",
    "        j=b\n",
    "        \n",
    "        \n",
    "    #We don't care that both i and j are 0 because when one of them is zero we can't find the cell [i-1][j-1]\n",
    "    \n",
    "    \n",
    "    lcss=''\n",
    "    LCSS.reverse()\n",
    "    for i in range(len(LCSS)):\n",
    "        lcss=lcss+LCSS[i]\n",
    "        \n",
    "    return [ss[len(string_1)][len(string_2)],operations_performed,lcss,vet,ss]\n",
    "\n",
    "\n",
    "\n",
    "\n",
    "\n",
    "                \n",
    "                "
   ]
  },
  {
   "cell_type": "code",
   "execution_count": 36,
   "id": "b4502f67",
   "metadata": {},
   "outputs": [
    {
     "name": "stdout",
     "output_type": "stream",
     "text": [
      "Enter the  string 1 :\n",
      "ACADB\n",
      "Enter the target string 2 :\n",
      "CBDA\n",
      "Distance Longest Common Subsequence: 2\n",
      "Longest Common Subsequence LCSS: CA\n",
      "Moves in the matrix:\n",
      "1) : UP ->[4, 4]\n",
      "2) : UP ->[3, 4]\n",
      "3) : DIAGON ->[2, 3]\n",
      "4) : LEFT ->[2, 2]\n",
      "5) : LEFT ->[2, 1]\n",
      "6) : DIAGON ->[1, 0]\n",
      "Table algorithm:\n",
      "   0  1  2  3  4\n",
      "0  0  0  0  0  0\n",
      "1  0  0  0  0  1\n",
      "2  0  1  1  1  1\n",
      "3  0  1  1  1  2\n",
      "4  0  1  1  2  2\n",
      "5  0  1  2  2  2\n",
      "Algorithm path by matrix:\n",
      "->[[5, 4]] ->[[4, 4]] ->[[3, 4]] ->[[2, 3]] ->[[2, 2]] ->[[2, 1]] ->[[1, 0]] "
     ]
    }
   ],
   "source": [
    "if __name__==\"__main__\":\n",
    "\n",
    "    # Get the string_1 and string_2\n",
    "    print(\"Enter the  string 1 :\")\n",
    "    string_1 = input().strip()\n",
    "    print(\"Enter the target string 2 :\")\n",
    "    string_2 = input().strip()\n",
    "    \n",
    "    # Find distance, operations performed , LCSS, path of LCSS, matrix perform\n",
    "    distance,operations_performed, LCSS,street,ss=find_LCSS(string_1,string_2)\n",
    "    \n",
    "    print(\"Distance Longest Common Subsequence: {}\".format(distance))\n",
    "    print(\"Longest Common Subsequence LCSS: {}\".format(LCSS))\n",
    "    \n",
    "    print(\"Moves in the matrix:\")\n",
    "    for i in range(len(operations_performed)):\n",
    "        print(\"{}) : {} ->{}\".format(i+1,operations_performed[i][0],operations_performed[i][1]))\n",
    "    print(\"Table algorithm:\")\n",
    "    print(pd.DataFrame(ss))\n",
    "    print(\"Algorithm path by matrix:\")\n",
    "    for i in range(len(street)):\n",
    "        print(\"->{} \".format(street[i]),end=\"\")\n",
    "        "
   ]
  },
  {
   "cell_type": "markdown",
   "id": "84a56b4f",
   "metadata": {},
   "source": [
    "### Các Bước Thuật Toán"
   ]
  },
  {
   "cell_type": "markdown",
   "id": "d78e1ac3",
   "metadata": {},
   "source": [
    "**Bước 1: Chuẩn bị đầu vào**    \n",
    " - Nhập vào hai chuỗi cần so sánh, chúng ta gọi là chuỗi A và chuỗi B.\n",
    " - Lưu độ dài của hai chuỗi này thành m và n tương ứng.\n",
    "\n",
    "**Bước 2: Khởi tạo ma trận**\n",
    " - Tạo một ma trận có kích thước (m + 1) x (n + 1) để lưu trữ kết quả của các bước con của thuật toán.\n",
    " - Khởi tạo các giá trị ban đầu của ma trận là 0.\n",
    " \n",
    "**Bước 3: Xử lý từng ký tự**\n",
    " - Sử dụng vòng lặp for để duyệt qua từng ký tự của chuỗi A và chuỗi B.\n",
    " - So sánh ký tự tại vị trí i của chuỗi A với ký tự tại vị trí j của chuỗi B.\n",
    " \n",
    "**Bước 4: Tính toán ma trận LCSS**\n",
    " - Nếu ký tự tại vị trí i của chuỗi A và ký tự tại vị trí j của chuỗi B giống nhau, tức là A[i] == B[j], thì gán giá trị của ma trận tại vị trí (i, j) bằng giá trị tại vị trí (i-1, j-1) tại bước trước đó cộng thêm 1. Đó là, LCSS[i][j] = LCSS[i-1][j-1] + 1.\n",
    " \n",
    " - Nếu ký tự tại vị trí i của chuỗi A và ký tự tại vị trí j của chuỗi B không giống nhau, tức là A[i] != B[j], thì gán giá trị của ma trận tại vị trí (i, j) bằng max((i-1,j),(i,j-1)).\n",
    " \n",
    "**Bước 5: Lưu giá trị LCSS lớn nhất**\n",
    "   - Trong quá trình tính toán ma trận, lưu giá trị lớn nhất của LCSS và vị trí của nó trong ma trận. Chẳng hạn, giả sử giá trị lớn nhất của LCSS là maxLen và vị trí của nó là (maxLen_i, maxLen_j).\n",
    "   \n",
    "**Bước 6: Truy vết kết quả**\n",
    "\n",
    " - Bắt đầu từ vị trí (maxLen_i, maxLen_j), duyệt lại ngược lại trong ma trận LCSS để thu được chuỗi con dài nhất chung giữa chuỗi A và chuỗi B.\n",
    " - Khi duyệt lại ngược lại trong ma trận LCSS, nếu gặp giá trị LCSS tại vị trí (i, j) là 0, thì dừng lại vì đó là điểm kết thúc của chuỗi con LCSS"
   ]
  },
  {
   "cell_type": "code",
   "execution_count": null,
   "id": "7d8dbcd8",
   "metadata": {},
   "outputs": [],
   "source": []
  },
  {
   "cell_type": "markdown",
   "id": "e527524d",
   "metadata": {},
   "source": [
    "### Giải thích theo code LCSS:"
   ]
  },
  {
   "cell_type": "markdown",
   "id": "7bd98bb0",
   "metadata": {},
   "source": [
    "+ ss: khởi tạo ma trận có kích thước (m+1)x(n+1) tương ứng chiều hai dài chuỗi \n",
    "\n",
    "\n",
    "+ pre_pos: khởi tạo ma trận có kích thước (m+1)x(n+1) tương ứng chiều hai dài chuỗi để lưu lại vị trí mũi tên của ô trước \n",
    "\n",
    "\n",
    "+ Tiếp đến dùng for để duyệt qua từng ký tự trong hai chuỗi A,B và tính toán ma trận LCSS:\n",
    "    $$\n",
    "         LCSS(i,j)= max \\begin{cases}\n",
    "                                               LCSS(i-1,j-1), x_i=y_i\\\\\n",
    "                                               LCSS(i-1,j), 𝑜𝑡ℎ𝑒𝑟𝑤𝑖𝑠𝑒 (𝑛𝑜 \\  𝑚𝑎𝑡𝑐ℎ \\ 𝑜𝑛 \\  𝑥_i)\\\\\n",
    "                                               LCSS(i-1,j-1), 𝑜𝑡ℎ𝑒𝑟𝑤𝑖𝑠𝑒 (𝑛𝑜 \\  𝑚𝑎𝑡𝑐ℎ\\  𝑜𝑛\\  𝑦_i)\n",
    "                                               \\end{cases}\n",
    "    $$\n",
    "    \n",
    "    \n",
    "    - IF A[i]=B[i]: LCSS=LCSS[i-1][j-1]+1\n",
    "    - ELSE: LCSS=max(LCSS[i-1][j], LCSS[i,j-1])\n",
    "    \n",
    "    \n",
    "+ vet: để lưu lại đường đi của quay lui của thuật toán\n",
    "\n",
    "\n",
    "+ Quay lui lại để tìm LSCC, bắt đầu tại i=n+1, j=m+1, sau đó nhờ vào pre_pos để biết rằng ô tiếp theo cần đi là ô nào.Và ta cần lưu lại vị trí khi đường đi theo ô trên bên trái lưu vào LCSS. Ta chỉ cần dừng khi một trong hai biến i hoặc j bằng 0, vì khi i hoặc j bằng 0 ta không ta không thể có được ô trên bên trái nữa vì mục tiêu ta quan tâm là thuật toán đi lên trên bên trái."
   ]
  },
  {
   "cell_type": "code",
   "execution_count": null,
   "id": "b5e9ba44",
   "metadata": {},
   "outputs": [],
   "source": []
  },
  {
   "cell_type": "code",
   "execution_count": null,
   "id": "02856467",
   "metadata": {},
   "outputs": [],
   "source": []
  },
  {
   "cell_type": "code",
   "execution_count": null,
   "id": "08b10529",
   "metadata": {},
   "outputs": [],
   "source": []
  },
  {
   "cell_type": "markdown",
   "id": "12f5390c",
   "metadata": {},
   "source": [
    "## Câu 3 Khoảng cách biến đổi thời gian động (Dynamic Time Warping _DTW)"
   ]
  },
  {
   "cell_type": "markdown",
   "id": "a75b422e",
   "metadata": {},
   "source": [
    "Khoảng cách biến đổi thời gian động (Dynamic Time Warping - DTW) là một thuật toán được sử dụng để đo độ tương đồng giữa hai chuỗi dữ liệu thời gian có độ dài khác nhau. Thuật toán này được sử dụng rộng rãi trong lĩnh vực xử lý tín hiệu và nhận dạng mẫu để so sánh và phân tích các tín hiệu có độ biến động về thời gian khác nhau.\n",
    "\n",
    "Trong DTW, hai chuỗi dữ liệu được biểu diễn dưới dạng hai chuỗi vector với các giá trị tại các thời điểm khác nhau. Việc so sánh hai chuỗi này bằng cách tìm đường đi tối ưu (optimal path) trên một ma trận khoảng cách (distance matrix) giữa các điểm trong hai chuỗi. Đường đi tối ưu này được tìm bằng cách đánh giá khoảng cách giữa từng cặp điểm của hai chuỗi và tìm đường đi với khoảng cách tổng thấp nhất.\n",
    "\n",
    "Vì hai chuỗi có thể có độ dài khác nhau, nên một số điểm trong chuỗi dài hơn có thể không có điểm tương ứng trong chuỗi ngắn hơn. Do đó, để giải quyết vấn đề này, DTW cho phép thêm hoặc xoá các điểm trong chuỗi dài hơn để phù hợp với chuỗi ngắn hơn.\n",
    "\n",
    "DTW là một trong những phương pháp phổ biến để so sánh và phân tích các tín hiệu thời gian và đã được sử dụng trong nhiều lĩnh vực như xử lý tiếng nói, nhận dạng khuôn mặt, phân tích dữ liệu y tế, và nhiều lĩnh vực khác."
   ]
  },
  {
   "cell_type": "code",
   "execution_count": 2,
   "id": "6d749a3c",
   "metadata": {},
   "outputs": [],
   "source": [
    "import numpy as np\n",
    "import pandas as pd"
   ]
  },
  {
   "cell_type": "code",
   "execution_count": 42,
   "id": "0ae11a5f",
   "metadata": {},
   "outputs": [],
   "source": [
    "def find_Warping_DWT(seris_1,seris_2):\n",
    "        \n",
    "    # Create a ss matrix of dimension len(seris_1) x len(seris_2)\n",
    "    dist_time=[[0]*(len(seris_2)) for i in range(len(seris_1))]\n",
    "    \n",
    "    #Build Algrorithm\n",
    "    for i in range(len(seris_1)):\n",
    "        for j in range(len(seris_2)):\n",
    "            if (i==0 and j==0):\n",
    "                dist_time[i][j]=abs(seris_1[i]-seris_2[j])\n",
    "            elif (i==0):\n",
    "                dist_time[i][j]=abs(seris_1[i]-seris_2[j])+ dist_time[i][j-1]\n",
    "            elif (j==0):\n",
    "                dist_time[i][j]=abs(seris_1[i]-seris_2[j])+ dist_time[i-1][j]\n",
    "            else:\n",
    "                dist_time[i][j]=abs(seris_1[i]-seris_2[j])+ min(dist_time[i][j-1],dist_time[i-1][j],dist_time[i-1][j-1])\n",
    "    \n",
    "    #Save path warping of algorithm\n",
    "    wraping=[]\n",
    "    \n",
    "    #Save position of min([i-1][j], [i][j-1],[i-1][j-1]) in order to backtrack\n",
    "    vet=[]\n",
    "    \n",
    "    \n",
    "    i=len(seris_1)-1\n",
    "    j=len(seris_2)-1\n",
    "    vet.append([i,j])\n",
    "    wraping.append(dist_time[i][j])\n",
    "    \n",
    "    while(i!=0 and j!=0):\n",
    "        dist_min=min(dist_time[i-1][j],dist_time[i][j-1],dist_time[i-1][j-1])\n",
    "        wraping.append(dist_min)\n",
    "        if (dist_min==dist_time[i-1][j]) :\n",
    "            i=i-1\n",
    "            vet.append([i,j])\n",
    "        elif (dist_min==dist_time[i][j-1]):\n",
    "            j=j-1\n",
    "            vet.append([i,j])\n",
    "        else:\n",
    "            i=i-1\n",
    "            j=j-1\n",
    "            vet.append([i,j])\n",
    "    \n",
    "    # If we reach left-most column of the matrix\n",
    "    while (i !=0):\n",
    "        wraping.append(dist_time[i-1][j])\n",
    "        i=i-1\n",
    "        vet.append([i,j])\n",
    "        \n",
    "    # If we reach top-most row of the matrix\n",
    "    while (j !=0):\n",
    "        wraping.append(dist_time[i][j-1])\n",
    "        j=j-1\n",
    "        vet.append([i,j])\n",
    "        \n",
    "        \n",
    "        \n",
    "    return [wraping,vet,pd.DataFrame(dist_time)]"
   ]
  },
  {
   "cell_type": "markdown",
   "id": "130ac820",
   "metadata": {},
   "source": [
    "#### Các bước thuật toán DTW:"
   ]
  },
  {
   "cell_type": "markdown",
   "id": "fae16cf4",
   "metadata": {},
   "source": [
    "\n",
    "**Bước 1: Chuẩn bị dữ liệu**\n",
    "- Nhập vào hai chuỗi thời gian cần so sánh: chuỗi Q và chuỗi C.\n",
    "- Chuỗi Q và C có thể có độ dài khác nhau.\n",
    "\n",
    "**Bước 2: Khởi tạo ma trận**\n",
    "- Tạo một ma trận có kích thước mxn, trong đó m và n lần lượt là độ dài của chuỗi Q và C.\n",
    "\n",
    "**Bước 3: Tính toán khoảng cách**\n",
    "- Dùng vòng lặp duyệt qua các cặp điểm (i,j) của ma trận.\n",
    "- Tại mỗi điểm (i,j), tính toán khoảng cách giữa hai điểm Q[i] và C[j].\n",
    "  $$ \n",
    "            DWT(i,j)=distance(x_i,y_j) + min \\begin{cases}\n",
    "                                               DWT(i,j-1)\\\\\n",
    "                                               DWT(i-1,j)\\\\\n",
    "                                               DWT(i-1,j-1)\n",
    "                                               \\end{cases}\n",
    "        $$\n",
    "\n",
    "- Lưu kết quả vào ma trận DTW.\n",
    "\n",
    "**Bước 4: Tìm đường đi tối ưu**\n",
    "- Duyệt đường đi tối ưu từ  (điểm DTW[m][n]) đến góc (điểm DTW[0][0]).\n",
    "- Tìm min((i-1,j),(i,j-1),(i-1,j-1)) trên ma trận DTW\n",
    "- Đường đi tối ưu là đường đi có tổng khoảng cách biến đổi thời gian động nhỏ nhất giữa hai chuỗi Q và C.\n",
    "- Lưu đường đi tối ưu vào một danh sách các cặp điểm (i,j) trên ma trận DTW.\n",
    "\n"
   ]
  },
  {
   "cell_type": "code",
   "execution_count": null,
   "id": "d8af6554",
   "metadata": {},
   "outputs": [],
   "source": []
  },
  {
   "cell_type": "code",
   "execution_count": 43,
   "id": "1b07ff54",
   "metadata": {},
   "outputs": [
    {
     "name": "stdout",
     "output_type": "stream",
     "text": [
      "Enter the  seris_1 :\n",
      "1 7 4 8 2 9 6 5 2 0\n",
      "Enter the target seris_2 :\n",
      "1 2 8 5 5 1 9 4 6 5\n",
      "Wraping Sequence: [17, 12, 9, 9, 9, 7, 7, 6, 3, 2, 1, 0]\n",
      "Path Weaping: [[9, 9], [8, 9], [7, 9], [6, 8], [6, 7], [5, 6], [4, 5], [3, 4], [2, 3], [1, 2], [0, 1], [0, 0]]\n",
      "Matrix of algorithm:\n",
      "    0   1   2   3   4   5   6   7   8   9\n",
      "0   0   1   8  12  16  16  24  27  32  36\n",
      "1   6   5   2   4   6  12  14  17  18  20\n",
      "2   9   7   6   3   4   7  12  12  14  15\n",
      "3  16  13   6   6   6  11   8  12  14  17\n",
      "4  17  13  12   9   9   7  14  10  14  17\n",
      "5  25  20  13  13  13  15   7  12  13  17\n",
      "6  30  24  15  14  14  18  10   9   9  10\n",
      "7  34  27  18  14  14  18  14  10  10   9\n",
      "8  35  27  24  17  17  15  21  12  14  12\n",
      "9  36  29  32  22  22  16  24  16  18  17\n"
     ]
    }
   ],
   "source": [
    "if __name__==\"__main__\":\n",
    "\n",
    "    # Get the seris_1 and seris_2\n",
    "    print(\"Enter the  seris_1 :\")\n",
    "    seris_1 = input().split()\n",
    "    print(\"Enter the target seris_2 :\")\n",
    "    seris_2 = input().split()\n",
    "    \n",
    "    seris_1 = [int(i) for i in seris_1]  # chuyển đổi các giá trị thành số nguyên\n",
    "    seris_2 = [int(i) for i in seris_2]  # chuyển đổi các giá trị thành số nguyên\n",
    "\n",
    "    wraping,street, matrix_dist=find_Warping_DWT(seris_1,seris_2)\n",
    "    \n",
    "    #out put result \n",
    "    \n",
    "    print(\"Wraping Sequence: {}\".format(wraping))\n",
    "    print(\"Path Weaping: {}\".format(street))\n",
    "    print(\"Matrix of algorithm:\")\n",
    "    print(matrix_dist)\n",
    "    "
   ]
  },
  {
   "cell_type": "code",
   "execution_count": null,
   "id": "ae26f1cb",
   "metadata": {},
   "outputs": [],
   "source": []
  },
  {
   "cell_type": "code",
   "execution_count": null,
   "id": "34999f2e",
   "metadata": {},
   "outputs": [],
   "source": []
  },
  {
   "cell_type": "markdown",
   "id": "03e15b85",
   "metadata": {},
   "source": [
    "\n",
    "###### visualization\n"
   ]
  },
  {
   "cell_type": "code",
   "execution_count": 44,
   "id": "58769a80",
   "metadata": {},
   "outputs": [],
   "source": [
    "x=[i for i in range(1,len(seris_1)+1)]"
   ]
  },
  {
   "cell_type": "code",
   "execution_count": 45,
   "id": "6e4708a4",
   "metadata": {},
   "outputs": [],
   "source": [
    "a1=[street[i][0] for i in range(len(street))]\n",
    "a2=[street[i][1] for i in range(len(street))]"
   ]
  },
  {
   "cell_type": "code",
   "execution_count": 46,
   "id": "b7f4e5e5",
   "metadata": {},
   "outputs": [],
   "source": [
    "import matplotlib.pyplot as plt"
   ]
  },
  {
   "cell_type": "code",
   "execution_count": 47,
   "id": "e828de1a",
   "metadata": {},
   "outputs": [
    {
     "data": {
      "text/plain": [
       "<matplotlib.legend.Legend at 0x27434ed0a30>"
      ]
     },
     "execution_count": 47,
     "metadata": {},
     "output_type": "execute_result"
    },
    {
     "data": {
      "image/png": "[encoded data removed]",
      "text/plain": [
       "<Figure size 432x288 with 1 Axes>"
      ]
     },
     "metadata": {
      "needs_background": "light"
     },
     "output_type": "display_data"
    }
   ],
   "source": [
    "x1=[i for i in range(1,len(seris_1)+1)]\n",
    "x2=[i for i in range(1,len(seris_2)+1)]\n",
    "\n",
    "plt.plot(x1,seris_1,'blue',label=\"seris_1\")\n",
    "plt.plot(x2,seris_2,'red',label=\"seris_2\")\n",
    "plt.legend()\n",
    "\n"
   ]
  },
  {
   "cell_type": "code",
   "execution_count": 48,
   "id": "b49cc7a4",
   "metadata": {},
   "outputs": [
    {
     "data": {
      "text/plain": [
       "[<matplotlib.lines.Line2D at 0x274321d17f0>]"
      ]
     },
     "execution_count": 48,
     "metadata": {},
     "output_type": "execute_result"
    },
    {
     "data": {
      "image/png": "[encoded data removed]",
      "text/plain": [
       "<Figure size 432x288 with 1 Axes>"
      ]
     },
     "metadata": {
      "needs_background": "light"
     },
     "output_type": "display_data"
    }
   ],
   "source": [
    "#path of algorithm\n",
    "plt.plot(a2,a1)"
   ]
  },
  {
   "cell_type": "code",
   "execution_count": null,
   "id": "faf6e570",
   "metadata": {},
   "outputs": [],
   "source": []
  }
 ],
 "metadata": {
  "kernelspec": {
   "display_name": "Python 3 (ipykernel)",
   "language": "python",
   "name": "python3"
  },
  "language_info": {
   "codemirror_mode": {
    "name": "ipython",
    "version": 3
   },
   "file_extension": ".py",
   "mimetype": "text/x-python",
   "name": "python",
   "nbconvert_exporter": "python",
   "pygments_lexer": "ipython3",
   "version": "3.9.12"
  }
 },
 "nbformat": 4,
 "nbformat_minor": 5
}
